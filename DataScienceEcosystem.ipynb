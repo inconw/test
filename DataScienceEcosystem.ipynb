{
 "cells": [
  {
   "cell_type": "markdown",
   "id": "553dc30a-ce45-4cd3-ad7b-375187bd6559",
   "metadata": {},
   "source": [
    "# Data Science Tools and Ecosystem"
   ]
  },
  {
   "cell_type": "markdown",
   "id": "a0878b54-a81a-487c-afa0-41638eaafdb5",
   "metadata": {},
   "source": [
    "In this lab we demonstrate the basic creation and use of both code and markdown cells."
   ]
  },
  {
   "cell_type": "markdown",
   "id": "914cadd5-fac6-41fb-9f6a-08f014caca9e",
   "metadata": {},
   "source": [
    "Some of the popular languages that Data Scientists use are: Python, R, Stata, and DAX."
   ]
  },
  {
   "cell_type": "markdown",
   "id": "08798829-4aa1-4d3c-9bc0-ba065ae02ef6",
   "metadata": {},
   "source": [
    "Some of the commonly used libraries used by Data Scientists include: \n",
    "1. pandas\n",
    "2. seaborn\n",
    "3. numpy"
   ]
  },
  {
   "cell_type": "markdown",
   "id": "16550d7e-a617-4275-8f38-606ef0cf5b6f",
   "metadata": {},
   "source": [
    "| Data Science Tools |\n",
    "|--------------------|\n",
    "|Jupyter Notebooks|\n",
    "|RStudio|\n",
    "|Spyder|"
   ]
  },
  {
   "cell_type": "markdown",
   "id": "ef959749-c0f8-4f98-a17d-40795996cbe7",
   "metadata": {},
   "source": [
    "The sum of 5 and 3 is `5 + 3 = 8`.\n"
   ]
  },
  {
   "cell_type": "code",
   "execution_count": 2,
   "id": "325bf01b-cd7a-4f6a-9753-b3cfb871c0dc",
   "metadata": {
    "tags": []
   },
   "outputs": [
    {
     "data": {
      "text/plain": [
       "17"
      ]
     },
     "execution_count": 2,
     "metadata": {},
     "output_type": "execute_result"
    }
   ],
   "source": [
    "#This a simple arithmetic expression to mutiply then add integers\n",
    "\n",
    "(3*4)+5"
   ]
  },
  {
   "cell_type": "code",
   "execution_count": 4,
   "id": "944e9149-c640-4954-b6df-1550b6bcf99b",
   "metadata": {
    "tags": []
   },
   "outputs": [
    {
     "data": {
      "text/plain": [
       "3.3333333333333335"
      ]
     },
     "execution_count": 4,
     "metadata": {},
     "output_type": "execute_result"
    }
   ],
   "source": [
    "# This will convert 200 minutes to hours by diving by 60\n",
    "\n",
    "200 / 60"
   ]
  },
  {
   "cell_type": "markdown",
   "id": "1ca97ef7-74f1-4a45-ae64-5e9f25c45151",
   "metadata": {},
   "source": [
    "**Objectives**\n",
    "- Learn basic libraries.\n",
    "- Understand popular data science tools.\n",
    "- Perform arithmatic in Python."
   ]
  },
  {
   "cell_type": "markdown",
   "id": "8b7a735f-7b65-4287-842b-b565c34db610",
   "metadata": {},
   "source": [
    "## Author\n",
    "Ingrid Conway"
   ]
  },
  {
   "cell_type": "code",
   "execution_count": null,
   "id": "8eb6fdde-4f99-448b-b4c7-bed966ef93bb",
   "metadata": {},
   "outputs": [],
   "source": []
  }
 ],
 "metadata": {
  "kernelspec": {
   "display_name": "Python 3 (ipykernel)",
   "language": "python",
   "name": "python3"
  },
  "language_info": {
   "codemirror_mode": {
    "name": "ipython",
    "version": 3
   },
   "file_extension": ".py",
   "mimetype": "text/x-python",
   "name": "python",
   "nbconvert_exporter": "python",
   "pygments_lexer": "ipython3",
   "version": "3.11.1"
  }
 },
 "nbformat": 4,
 "nbformat_minor": 5
}
